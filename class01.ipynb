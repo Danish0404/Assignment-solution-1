{
 "cells": [
  {
   "cell_type": "markdown",
   "id": "81061d49-7d48-4719-86a2-3bdf4a07c0da",
   "metadata": {},
   "source": [
    "01.Write a Python program to print \"hello python\"?\n",
    "\n"
   ]
  },
  {
   "cell_type": "code",
   "execution_count": 12,
   "id": "7fcfd432-9a42-49cc-9f49-0b0f366d752b",
   "metadata": {},
   "outputs": [
    {
     "name": "stdout",
     "output_type": "stream",
     "text": [
      "hello python\n"
     ]
    }
   ],
   "source": [
    "name = \"hello python\"\n",
    "print(name)"
   ]
  },
  {
   "cell_type": "markdown",
   "id": "1642f3b0-0921-4472-bdba-ff127844aaeb",
   "metadata": {},
   "source": [
    "02.Write a Python program to do arithmetical operations addition and division.?"
   ]
  },
  {
   "cell_type": "code",
   "execution_count": 4,
   "id": "50bc5325-9882-4518-8712-89e637c811d6",
   "metadata": {},
   "outputs": [
    {
     "name": "stdin",
     "output_type": "stream",
     "text": [
      "enter the value1 is : 10\n",
      "enter the value2 is : 5\n"
     ]
    },
    {
     "name": "stdout",
     "output_type": "stream",
     "text": [
      "the sum value is: 15.0\n",
      "the division values is : 0.0\n"
     ]
    }
   ],
   "source": [
    "num = float(input(\"enter the value1 is :\"))\n",
    "num1 = float(input(\"enter the value2 is :\"))\n",
    "print(\"the sum value is:\",num+num1)\n",
    "print(\"the division values is :\",num%num1)"
   ]
  },
  {
   "cell_type": "markdown",
   "id": "5a08be2a-8436-4a9f-9fdb-855341ad9611",
   "metadata": {},
   "source": [
    "03.Write a Python program to find the area of a triangle?"
   ]
  },
  {
   "cell_type": "code",
   "execution_count": 2,
   "id": "a23254a7-c9f7-4efd-bac7-be4a756d8a6a",
   "metadata": {},
   "outputs": [
    {
     "name": "stdin",
     "output_type": "stream",
     "text": [
      "enter the height value of triangle is : 6.8\n",
      "enter the base value of triangle is : 5\n"
     ]
    },
    {
     "name": "stdout",
     "output_type": "stream",
     "text": [
      "the area of triangle is : 17.0\n"
     ]
    }
   ],
   "source": [
    "h = float(input(\"enter the height value of triangle is :\"))\n",
    "b = float(input(\"enter the base value of triangle is :\"))\n",
    "area = 0.5*h*b\n",
    "print(\"the area of triangle is :\",area)"
   ]
  },
  {
   "cell_type": "markdown",
   "id": "cd244403-3535-4489-92c6-334d5b58287a",
   "metadata": {},
   "source": [
    "04.Write a Python program to swap two variables?"
   ]
  },
  {
   "cell_type": "code",
   "execution_count": 8,
   "id": "0b102419-2346-46b5-865e-c1b3cb31a5af",
   "metadata": {},
   "outputs": [
    {
     "name": "stdout",
     "output_type": "stream",
     "text": [
      "the value of x is : 20\n",
      "the value of y is : 10\n"
     ]
    }
   ],
   "source": [
    "x = 10\n",
    "y = 20\n",
    "x,y = y,x\n",
    "print(\"the value of x is :\",x)\n",
    "print(\"the value of y is :\",y)\n"
   ]
  },
  {
   "cell_type": "markdown",
   "id": "5f564495-0cdd-42df-98bd-8fcb4aeabf0c",
   "metadata": {},
   "source": [
    "05. Write a Python program to generate a random number?"
   ]
  },
  {
   "cell_type": "code",
   "execution_count": null,
   "id": "eef865cf-5e6f-432f-9c1f-7a72fe320955",
   "metadata": {},
   "outputs": [],
   "source": [
    "import rand"
   ]
  }
 ],
 "metadata": {
  "kernelspec": {
   "display_name": "Python 3 (ipykernel)",
   "language": "python",
   "name": "python3"
  },
  "language_info": {
   "codemirror_mode": {
    "name": "ipython",
    "version": 3
   },
   "file_extension": ".py",
   "mimetype": "text/x-python",
   "name": "python",
   "nbconvert_exporter": "python",
   "pygments_lexer": "ipython3",
   "version": "3.12.4"
  }
 },
 "nbformat": 4,
 "nbformat_minor": 5
}
